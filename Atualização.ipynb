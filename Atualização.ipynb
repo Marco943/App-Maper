{
 "cells": [
  {
   "cell_type": "code",
   "execution_count": 1,
   "id": "0ee74eeb",
   "metadata": {
    "_cell_guid": "b1076dfc-b9ad-4769-8c92-a6c4dae69d19",
    "_uuid": "8f2839f25d086af736a60e9eeb907d3b93b6e0e5",
    "execution": {
     "iopub.execute_input": "2022-06-12T00:58:34.071973Z",
     "iopub.status.busy": "2022-06-12T00:58:34.071413Z",
     "iopub.status.idle": "2022-06-12T00:58:34.089116Z",
     "shell.execute_reply": "2022-06-12T00:58:34.088149Z"
    },
    "papermill": {
     "duration": 0.024385,
     "end_time": "2022-06-12T00:58:34.091394",
     "exception": false,
     "start_time": "2022-06-12T00:58:34.067009",
     "status": "completed"
    },
    "tags": []
   },
   "outputs": [
    {
     "name": "stdout",
     "output_type": "stream",
     "text": [
      "/kaggle/input/nba-datasets/Jogos.parquet\n",
      "/kaggle/input/nba-datasets/BoxScores.parquet\n"
     ]
    }
   ],
   "source": [
    "# This Python 3 environment comes with many helpful analytics libraries installed\n",
    "# It is defined by the kaggle/python Docker image: https://github.com/kaggle/docker-python\n",
    "# For example, here's several helpful packages to load\n",
    "\n",
    "import numpy as np # linear algebra\n",
    "import pandas as pd # data processing, CSV file I/O (e.g. pd.read_csv)\n",
    "\n",
    "# Input data files are available in the read-only \"../input/\" directory\n",
    "# For example, running this (by clicking run or pressing Shift+Enter) will list all files under the input directory\n",
    "\n",
    "import os\n",
    "for dirname, _, filenames in os.walk('/kaggle/input'):\n",
    "    for filename in filenames:\n",
    "        print(os.path.join(dirname, filename))\n",
    "\n",
    "# You can write up to 20GB to the current directory (/kaggle/working/) that gets preserved as output when you create a version using \"Save & Run All\" \n",
    "# You can also write temporary files to /kaggle/temp/, but they won't be saved outside of the current session"
   ]
  },
  {
   "cell_type": "code",
   "execution_count": 2,
   "id": "546e48da",
   "metadata": {
    "execution": {
     "iopub.execute_input": "2022-06-12T00:58:34.096946Z",
     "iopub.status.busy": "2022-06-12T00:58:34.096620Z",
     "iopub.status.idle": "2022-06-12T00:58:48.375371Z",
     "shell.execute_reply": "2022-06-12T00:58:48.374335Z"
    },
    "papermill": {
     "duration": 14.284277,
     "end_time": "2022-06-12T00:58:48.377940",
     "exception": false,
     "start_time": "2022-06-12T00:58:34.093663",
     "status": "completed"
    },
    "tags": []
   },
   "outputs": [
    {
     "name": "stdout",
     "output_type": "stream",
     "text": [
      "Collecting nba_api\r\n",
      "  Downloading nba_api-1.1.11.tar.gz (125 kB)\r\n",
      "\u001b[2K     \u001b[90m━━━━━━━━━━━━━━━━━━━━━━━━━━━━━━━━━━━━━\u001b[0m \u001b[32m125.6/125.6 kB\u001b[0m \u001b[31m312.2 kB/s\u001b[0m eta \u001b[36m0:00:00\u001b[0m\r\n",
      "\u001b[?25h  Preparing metadata (setup.py) ... \u001b[?25l-\b \bdone\r\n",
      "\u001b[?25hRequirement already satisfied: requests in /opt/conda/lib/python3.7/site-packages (from nba_api) (2.27.1)\r\n",
      "Requirement already satisfied: urllib3<1.27,>=1.21.1 in /opt/conda/lib/python3.7/site-packages (from requests->nba_api) (1.26.9)\r\n",
      "Requirement already satisfied: certifi>=2017.4.17 in /opt/conda/lib/python3.7/site-packages (from requests->nba_api) (2022.5.18.1)\r\n",
      "Requirement already satisfied: charset-normalizer~=2.0.0 in /opt/conda/lib/python3.7/site-packages (from requests->nba_api) (2.0.12)\r\n",
      "Requirement already satisfied: idna<4,>=2.5 in /opt/conda/lib/python3.7/site-packages (from requests->nba_api) (3.3)\r\n",
      "Building wheels for collected packages: nba_api\r\n",
      "  Building wheel for nba_api (setup.py) ... \u001b[?25l-\b \b\\\b \b|\b \bdone\r\n",
      "\u001b[?25h  Created wheel for nba_api: filename=nba_api-1.1.11-py3-none-any.whl size=251504 sha256=51ea525659e5e3f3956ece9c233705c11f46220cc14a23fab37fede41a58e7f7\r\n",
      "  Stored in directory: /root/.cache/pip/wheels/e3/f4/46/996128675381abc175e306642bae575d372dcf7efc4683e551\r\n",
      "Successfully built nba_api\r\n",
      "Installing collected packages: nba_api\r\n",
      "Successfully installed nba_api-1.1.11\r\n",
      "\u001b[33mWARNING: Running pip as the 'root' user can result in broken permissions and conflicting behaviour with the system package manager. It is recommended to use a virtual environment instead: https://pip.pypa.io/warnings/venv\u001b[0m\u001b[33m\r\n",
      "\u001b[0m"
     ]
    }
   ],
   "source": [
    "!pip install nba_api"
   ]
  },
  {
   "cell_type": "code",
   "execution_count": 3,
   "id": "184d905d",
   "metadata": {
    "execution": {
     "iopub.execute_input": "2022-06-12T00:58:48.385797Z",
     "iopub.status.busy": "2022-06-12T00:58:48.385187Z",
     "iopub.status.idle": "2022-06-12T00:59:00.660770Z",
     "shell.execute_reply": "2022-06-12T00:59:00.659968Z"
    },
    "papermill": {
     "duration": 12.282411,
     "end_time": "2022-06-12T00:59:00.663295",
     "exception": false,
     "start_time": "2022-06-12T00:58:48.380884",
     "status": "completed"
    },
    "tags": []
   },
   "outputs": [
    {
     "name": "stdout",
     "output_type": "stream",
     "text": [
      "Pre Season de 2021 atualizada.\n",
      "Regular Season de 2021 atualizada.\n",
      "Playoffs de 2021 atualizada.\n",
      "BoxScores atualizadas\n"
     ]
    }
   ],
   "source": [
    "import pandas as pd, time\n",
    "from nba_api.stats.endpoints import leaguegamelog, boxscoretraditionalv2\n",
    "\n",
    "pd.set_option('display.max_columns', None)\n",
    "\n",
    "games = pd.read_parquet('/kaggle/input/nba-datasets/Jogos.parquet')\n",
    "games_last_season = games['SEASON_ID'].astype(str).str[1:].astype(int).max()\n",
    "boxscores = pd.read_parquet('/kaggle/input/nba-datasets/BoxScores.parquet')\n",
    "\n",
    "games = games[games['SEASON_ID'].astype(str).str[1:].astype(int) < games_last_season]\n",
    "\n",
    "seasons = [season for season in range(games_last_season,3000)]\n",
    "#seasons = [season for season in range(2020,3000)]\n",
    "season_types = ['Pre Season', 'Regular Season', 'Playoffs']\n",
    "\n",
    "for season_type in season_types:\n",
    "    for season in seasons:\n",
    "        games_season = leaguegamelog.LeagueGameLog(player_or_team_abbreviation='T', season=season, season_type_all_star=season_type).league_game_log.get_data_frame()\n",
    "        if not games_season.empty:\n",
    "            print('{0} de {1} atualizada.'.format(season_type, season))\n",
    "            games = pd.concat([games, games_season])\n",
    "            games = games[-games['WL'].isnull()]\n",
    "            time.sleep(0.6)\n",
    "        else:\n",
    "            break\n",
    "\n",
    "games['SEASON_ID'] = games['SEASON_ID'].astype(int)\n",
    "games['GAME_DATE'] = pd.to_datetime(games['GAME_DATE'])\n",
    "games.to_parquet('/kaggle/working/Jogos.parquet', index=False)\n",
    "i = 0\n",
    "while True:\n",
    "    boxscores_games_id = boxscores.GAME_ID\n",
    "    games_to_update_id = games[-games.GAME_ID.isin(boxscores_games_id)]\n",
    "\n",
    "    if games_to_update_id.empty:\n",
    "        print('BoxScores atualizadas')\n",
    "        break\n",
    "\n",
    "    game_to_update_id = games_to_update_id.GAME_ID.min()\n",
    "    \n",
    "    print('Atualizando jogo {0}'.format(game_to_update_id))\n",
    "\n",
    "    try:\n",
    "        boxscore_update = boxscoretraditionalv2.BoxScoreTraditionalV2(game_id=game_to_update_id).player_stats.get_data_frame()\n",
    "    except:\n",
    "        print('Erro na API. Tentando novamente...')\n",
    "        time.sleep(60)\n",
    "        continue\n",
    "\n",
    "    if boxscore_update.empty:\n",
    "        boxscore_update = pd.DataFrame(data={'GAME_ID':[game_to_update_id]})\n",
    "    else:\n",
    "        try:\n",
    "            boxscore_update['MIN'] = boxscore_update['MIN'].astype('str').str.replace('None','0').str.split(':', expand=True).pipe(lambda x: x[0].astype(float)+x[1].astype(float)/60)\n",
    "        except:\n",
    "            pass\n",
    "    \n",
    "    boxscores = pd.concat([boxscores, boxscore_update])\n",
    "    i=i+1\n",
    "    if i >= 100:\n",
    "        boxscores.to_parquet('/kaggle/working/BoxScores.parquet', index=False)\n",
    "        i = 0\n",
    "        continue\n",
    "\n",
    "boxscores.to_parquet('/kaggle/working/BoxScores.parquet', index=False)"
   ]
  },
  {
   "cell_type": "code",
   "execution_count": null,
   "id": "84930071",
   "metadata": {
    "papermill": {
     "duration": 0.0026,
     "end_time": "2022-06-12T00:59:00.668999",
     "exception": false,
     "start_time": "2022-06-12T00:59:00.666399",
     "status": "completed"
    },
    "tags": []
   },
   "outputs": [],
   "source": []
  }
 ],
 "metadata": {
  "kernelspec": {
   "display_name": "Python 3",
   "language": "python",
   "name": "python3"
  },
  "language_info": {
   "codemirror_mode": {
    "name": "ipython",
    "version": 3
   },
   "file_extension": ".py",
   "mimetype": "text/x-python",
   "name": "python",
   "nbconvert_exporter": "python",
   "pygments_lexer": "ipython3",
   "version": "3.7.12"
  },
  "papermill": {
   "default_parameters": {},
   "duration": 35.883122,
   "end_time": "2022-06-12T00:59:01.296729",
   "environment_variables": {},
   "exception": null,
   "input_path": "__notebook__.ipynb",
   "output_path": "__notebook__.ipynb",
   "parameters": {},
   "start_time": "2022-06-12T00:58:25.413607",
   "version": "2.3.4"
  }
 },
 "nbformat": 4,
 "nbformat_minor": 5
}
